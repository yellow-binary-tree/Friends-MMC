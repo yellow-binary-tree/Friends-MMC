{
 "cells": [
  {
   "cell_type": "code",
   "execution_count": 1,
   "metadata": {},
   "outputs": [
    {
     "data": {
      "text/plain": [
       "2"
      ]
     },
     "execution_count": 1,
     "metadata": {},
     "output_type": "execute_result"
    }
   ],
   "source": [
    "1+1"
   ]
  },
  {
   "cell_type": "code",
   "execution_count": 7,
   "metadata": {},
   "outputs": [],
   "source": [
    "# 检查一下talknet的运行结果\n",
    "import pickle\n",
    "new_pred = pickle.load(open('/share2/wangyq/projects/video_dialogue/active_speaker/github_upload/csi/snap/multiturn/talknet/s01e01.pkl', 'rb'))\n",
    "old_pred = pickle.load(open('/share3/wangyq/resources/C1C/asd/s01e01.pkl', 'rb'))\n",
    "\n",
    "new_pred = sorted(list(new_pred.items()))\n",
    "old_pred = sorted(list(old_pred.items()))"
   ]
  },
  {
   "cell_type": "code",
   "execution_count": 2,
   "metadata": {},
   "outputs": [],
   "source": [
    "# 检查一下noisy和非noisy的标注是什么格式\n",
    "import pickle\n",
    "easy = pickle.load(open('/share3/wangyq/resources/C1C/track_sims/s03e01.pkl', 'rb'))\n",
    "hard = pickle.load(open('/share3/wangyq/resources/C1C/track_sims-hard/s03e01.pkl', 'rb'))"
   ]
  },
  {
   "cell_type": "code",
   "execution_count": 4,
   "metadata": {},
   "outputs": [
    {
     "name": "stdout",
     "output_type": "stream",
     "text": [
      "105 105\n",
      "<class 'dict'> <class 'dict'>\n"
     ]
    }
   ],
   "source": [
    "print(len(easy), len(hard))\n",
    "print(type(easy), type(hard))"
   ]
  },
  {
   "cell_type": "code",
   "execution_count": 8,
   "metadata": {},
   "outputs": [
    {
     "name": "stdout",
     "output_type": "stream",
     "text": [
      "['s03e01-002479-002501', [{'frame': (23,), 'bbox': (23, 4), 'name': 'phoebe'}, {'frame': (23,), 'bbox': (23, 4), 'name': 'ross'}, {'frame': (23,), 'bbox': (23, 4), 'name': 'rachel'}]]\n"
     ]
    }
   ],
   "source": [
    "import numpy as np\n",
    "def print_format(data):\n",
    "    if isinstance(data, np.ndarray):\n",
    "        return data.shape\n",
    "    elif isinstance(data, dict):\n",
    "        return {k: print_format(v) for k, v in data.items()}\n",
    "    elif isinstance(data, (list, tuple)):\n",
    "        return [print_format(x) for x in data]\n",
    "    else:\n",
    "        return data\n",
    "\n",
    "print(print_format(list(easy.items())[0]))"
   ]
  },
  {
   "cell_type": "code",
   "execution_count": 9,
   "metadata": {},
   "outputs": [
    {
     "name": "stdout",
     "output_type": "stream",
     "text": [
      "['s03e01-002479-002501', [{'frame': (23,), 'bbox': (23, 4), 'name': 'ross'}, {'frame': (23,), 'bbox': (23, 4), 'name': 'rachel'}]]\n"
     ]
    }
   ],
   "source": [
    "print(print_format(list(hard.items())[0]))"
   ]
  },
  {
   "cell_type": "code",
   "execution_count": 11,
   "metadata": {},
   "outputs": [
    {
     "name": "stderr",
     "output_type": "stream",
     "text": [
      "100%|██████████| 213/213 [00:06<00:00, 33.21it/s]\n"
     ]
    }
   ],
   "source": [
    "# 不如将face id也写进去\n",
    "import os\n",
    "from tqdm import tqdm\n",
    "easy_src_base_folder = '/share3/wangyq/resources/C1C/track_sims'\n",
    "hard_src_base_folder = '/share3/wangyq/resources/C1C/track_sims-hard'\n",
    "dst_base_folder = '../datasets/face_track_annotations'\n",
    "\n",
    "for fname in tqdm(os.listdir(easy_src_base_folder)):\n",
    "    data = pickle.load(open(os.path.join(easy_src_base_folder, fname), 'rb'))\n",
    "    res = dict()\n",
    "    for clip_name, clip_data in data.items():\n",
    "        new_clip_data = list()\n",
    "        for face_track_i, face_track in enumerate(clip_data):\n",
    "            face_track['face_track_id'] = face_track_i\n",
    "            new_clip_data.append(face_track)\n",
    "        res[clip_name] = new_clip_data\n",
    "    if fname.startswith('s03'):\n",
    "        pickle.dump(res, open(os.path.join(dst_base_folder, 'test', fname), 'wb'))\n",
    "    else:\n",
    "        pickle.dump(res, open(os.path.join(dst_base_folder, 'train', fname), 'wb'))\n"
   ]
  },
  {
   "cell_type": "code",
   "execution_count": 14,
   "metadata": {},
   "outputs": [
    {
     "name": "stderr",
     "output_type": "stream",
     "text": [
      "100%|██████████| 25/25 [00:00<00:00, 46.51it/s]\n"
     ]
    }
   ],
   "source": [
    "for fname in tqdm(os.listdir(os.path.join(dst_base_folder, 'test'))):\n",
    "    easy_data = pickle.load(open(os.path.join(dst_base_folder, 'test', fname), 'rb'))\n",
    "    noisy_data = pickle.load(open(os.path.join(hard_src_base_folder, fname), 'rb'))\n",
    "    assert len(easy_data) == len(noisy_data), f\"{len(easy_data)}, {len(noisy_data)}\"\n",
    "\n",
    "    res = dict()\n",
    "    for clip_name, clip_data in easy_data.items():\n",
    "        face_names_in_noisy = set([x['name'] for x in noisy_data[clip_name]])\n",
    "        new_clip_data = [track for track in clip_data if track['name'] in face_names_in_noisy]\n",
    "        res[clip_name] = new_clip_data\n",
    "    pickle.dump(res, open(os.path.join(dst_base_folder, 'test-noisy', fname), 'wb'))"
   ]
  },
  {
   "cell_type": "code",
   "execution_count": 17,
   "metadata": {},
   "outputs": [
    {
     "name": "stdout",
     "output_type": "stream",
     "text": [
      "('s03e01-002479-002501', [{'frame': array([2479, 2480, 2481, 2482, 2483, 2484, 2485, 2486, 2487, 2488, 2489,\n",
      "       2490, 2491, 2492, 2493, 2494, 2495, 2496, 2497, 2498, 2499, 2500,\n",
      "       2501]), 'bbox': array([[399.51831055,  15.69174862, 505.99285889, 145.64306641],\n",
      "       [392.62713623,  12.67576027, 500.54089355, 141.45791626],\n",
      "       [388.3302002 ,   7.92768192, 496.70193481, 136.76965332],\n",
      "       [386.49960327,   6.23927402, 481.67767334, 117.3915329 ],\n",
      "       [383.9510498 ,   1.46091342, 482.27142334, 114.604599  ],\n",
      "       [372.62347412,   2.6733737 , 476.48928833, 119.85094452],\n",
      "       [366.95462036,   2.58811188, 472.61212158, 119.43971252],\n",
      "       [360.70095825,   2.04194427, 465.76220703, 119.43115234],\n",
      "       [354.46881104,   4.12867594, 449.3324585 , 108.83058929],\n",
      "       [351.40655518,   3.4146719 , 450.05834961, 108.3608551 ],\n",
      "       [346.16122437,   1.95228338, 439.07025146, 107.87784576],\n",
      "       [331.03344727,   4.56877279, 434.57171631, 120.182724  ],\n",
      "       [320.14929199,   5.33510685, 423.90325928, 123.56970978],\n",
      "       [310.75805664,   8.89122772, 410.92453003, 115.68470764],\n",
      "       [302.2890625 ,   9.55417347, 406.15753174, 129.93466187],\n",
      "       [291.8855896 ,   8.65629292, 399.66506958, 131.82572937],\n",
      "       [280.8755188 ,   6.43189955, 388.8888855 , 126.30384827],\n",
      "       [269.20352173,   3.02746296, 382.29669189, 126.02383423],\n",
      "       [256.04290771,   8.15426922, 367.21032715, 122.4721756 ],\n",
      "       [240.58233643,   6.98227835, 355.57702637, 119.2580719 ],\n",
      "       [224.62612915,   5.49681711, 338.4050293 , 116.45134735],\n",
      "       [216.52670288,   3.49193048, 329.2098999 , 113.46173096],\n",
      "       [201.12780762,   2.90116835, 318.02893066, 114.70136261]]), 'name': 'ross', 'face_track_id': 1}, {'frame': array([2479, 2480, 2481, 2482, 2483, 2484, 2485, 2486, 2487, 2488, 2489,\n",
      "       2490, 2491, 2492, 2493, 2494, 2495, 2496, 2497, 2498, 2499, 2500,\n",
      "       2501]), 'bbox': array([[1038.53039551,  247.76008606, 1140.13244629,  365.71487427],\n",
      "       [1039.12573242,  248.89981079, 1141.59423828,  367.01364136],\n",
      "       [1039.94482422,  249.44229126, 1142.0234375 ,  367.55767822],\n",
      "       [1040.45324707,  249.38519287, 1141.70178223,  368.16741943],\n",
      "       [1041.06005859,  249.63450623, 1140.98071289,  367.71765137],\n",
      "       [1041.0279541 ,  249.53620911, 1141.24060059,  367.84289551],\n",
      "       [1041.265625  ,  249.97537231, 1141.13867188,  368.58673096],\n",
      "       [1041.1229248 ,  251.09812927, 1141.03137207,  369.55184937],\n",
      "       [1041.65625   ,  251.78901672, 1140.2454834 ,  370.17282104],\n",
      "       [1041.98852539,  253.03965759, 1140.52392578,  371.15478516],\n",
      "       [1041.5213623 ,  253.93144226, 1140.72180176,  371.8125    ],\n",
      "       [1041.94934082,  254.90922546, 1141.00683594,  372.48660278],\n",
      "       [1042.24133301,  255.89408875, 1140.89257812,  372.88330078],\n",
      "       [1041.33911133,  256.65716553, 1140.26855469,  373.10403442],\n",
      "       [1039.9519043 ,  259.66601562, 1137.62585449,  375.99758911],\n",
      "       [1038.75610352,  259.9473877 , 1137.36010742,  379.04476929],\n",
      "       [1039.38769531,  259.59384155, 1137.27856445,  378.85641479],\n",
      "       [1040.44970703,  259.12667847, 1137.92028809,  379.01324463],\n",
      "       [1039.23510742,  259.45605469, 1138.04016113,  378.06607056],\n",
      "       [1038.98571777,  259.67272949, 1137.57214355,  377.72940063],\n",
      "       [1037.8927002 ,  259.902771  , 1136.5213623 ,  377.72366333],\n",
      "       [1038.69140625,  259.36831665, 1138.12133789,  377.36199951],\n",
      "       [1039.39941406,  259.00534058, 1140.07299805,  376.7331543 ]]), 'name': 'rachel', 'face_track_id': 2}])\n"
     ]
    }
   ],
   "source": [
    "# 检查一下结果对不对\n",
    "test_data = pickle.load(open(\"/share2/wangyq/projects/video_dialogue/active_speaker/github_upload/datasets/face_track_annotations/test-noisy/s03e01.pkl\", \"rb\"))\n",
    "print(list(test_data.items())[0])\n",
    "\n",
    "# 呃 懒得把face track视频发送下来看了 应该没问题吧"
   ]
  }
 ],
 "metadata": {
  "kernelspec": {
   "display_name": "Python 3",
   "language": "python",
   "name": "python3"
  },
  "language_info": {
   "codemirror_mode": {
    "name": "ipython",
    "version": 3
   },
   "file_extension": ".py",
   "mimetype": "text/x-python",
   "name": "python",
   "nbconvert_exporter": "python",
   "pygments_lexer": "ipython3",
   "version": "3.7.12"
  }
 },
 "nbformat": 4,
 "nbformat_minor": 2
}
